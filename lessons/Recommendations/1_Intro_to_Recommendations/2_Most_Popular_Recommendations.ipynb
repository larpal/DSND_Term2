{
 "cells": [
  {
   "cell_type": "markdown",
   "metadata": {},
   "source": [
    "### Recommendations with MovieTweetings: Most Popular Recommendation\n",
    "\n",
    "Now that you have created the necessary columns we will be using throughout the rest of the lesson on creating recommendations, let's get started with the first of our recommendations.\n",
    "\n",
    "To get started, read in the libraries and the two datasets you will be using throughout the lesson using the code below.\n"
   ]
  },
  {
   "cell_type": "code",
   "execution_count": 3,
   "metadata": {},
   "outputs": [],
   "source": [
    "import numpy as np\n",
    "import pandas as pd\n",
    "import matplotlib.pyplot as plt\n",
    "import tests as t\n",
    "\n",
    "%matplotlib inline\n",
    "\n",
    "# Read in the datasets\n",
    "movies = pd.read_csv('movies_clean.csv')\n",
    "reviews = pd.read_csv('reviews_clean.csv')\n",
    "del movies['Unnamed: 0']\n",
    "del reviews['Unnamed: 0']"
   ]
  },
  {
   "cell_type": "markdown",
   "metadata": {},
   "source": [
    "#### 1. How To Find The Most Popular Movies\n",
    "\n",
    "For this notebook, we have a single task.  The task is that no matter the user, we need to provide a list of the recommendations based on simply the most popular items.\n",
    "\n",
    "For this task, we will consider what is \"most popular\" based on the following criteria:\n",
    "\n",
    "* A movie with the highest average rating is considered best\n",
    "* With ties, movies that have more ratings are better\n",
    "* A movie must have a minimum of 5 ratings to be considered among the best movies\n",
    "* If movies are tied in their average rating and number of ratings, the ranking is determined by the movie that is the most recent rating\n",
    "\n",
    "With these criteria, the goal for this notebook is to take a **user_id** and provide back the **n_top** recommendations.  Use the function below as the scaffolding that will be used for all the future recommendations as well."
   ]
  },
  {
   "cell_type": "code",
   "execution_count": 91,
   "metadata": {},
   "outputs": [
    {
     "data": {
      "text/plain": [
       "['Selam ',\n",
       " 'MSG 2 the Messenger ',\n",
       " 'Avengers: Age of Ultron Parody ',\n",
       " 'Let There Be Light ',\n",
       " 'Five Minutes ']"
      ]
     },
     "execution_count": 91,
     "metadata": {},
     "output_type": "execute_result"
    }
   ],
   "source": []
  },
  {
   "cell_type": "code",
   "execution_count": 97,
   "metadata": {},
   "outputs": [],
   "source": [
    "movie_ratings = reviews.groupby('movie_id')['rating']\n",
    "avg_ratings = movie_ratings.mean()\n",
    "num_ratings = movie_ratings.count()\n",
    "last_rating = reviews.groupby('movie_id')['date'].max()\n",
    "ratings_count_df = pd.DataFrame({'avg_rating':avg_ratings,'num_ratings':num_ratings,'last_rating':last_rating})\n",
    "ratings_count_df = ratings_count_df[ratings_count_df['num_ratings']>4]\n",
    "ratings_count_df.sort_values(by=['avg_rating','num_ratings','last_rating'], ascending=False, inplace=True)"
   ]
  },
  {
   "cell_type": "code",
   "execution_count": 99,
   "metadata": {},
   "outputs": [],
   "source": [
    "movies_recs = movies.set_index('movie_id').join(ratings_count_df)"
   ]
  },
  {
   "cell_type": "code",
   "execution_count": 100,
   "metadata": {},
   "outputs": [],
   "source": [
    "def create_ratings(movies, reviews):\n",
    "    movie_ratings = reviews.groupby('movie_id')['rating']\n",
    "    avg_ratings = movie_ratings.mean()\n",
    "    num_ratings = movie_ratings.count()\n",
    "    \n",
    "    last_rating = reviews.groupby('movie_id')['date'].max()\n",
    "    ratings_count_df = pd.DataFrame({'avg_rating':avg_ratings,'num_ratings':num_ratings,'last_rating':last_rating})\n",
    "    \n",
    "    movies_recs = movies.set_index('movie_id')[['movie']].join(ratings_count_df)\n",
    "    \n",
    "    ranked_movies = movies_recs.sort_values(by=['avg_rating','num_ratings','last_rating'], ascending=False)\n",
    "    ranked_movies = ranked_movies[ranked_movies['num_ratings'] > 4]\n",
    "    \n",
    "    return ranked_movies \n",
    "\n",
    "def popular_recommendations(user_id, n_top, ranked_movies):\n",
    "    '''\n",
    "    INPUT:\n",
    "    user_id - the user_id of the individual you are making recommendations for\n",
    "    n_top - an integer of the number recommendations you want back\n",
    "    OUTPUT:\n",
    "    top_movies - a list of the n_top recommended movies by movie title in order best to worst\n",
    "    '''\n",
    "    \n",
    "    top_movies = list(ranked_movies['movie'][:n_top])\n",
    "    \n",
    "    return top_movies # a list of the n_top movies as recommended"
   ]
  },
  {
   "cell_type": "code",
   "execution_count": 101,
   "metadata": {},
   "outputs": [],
   "source": [
    "ranked_movies = create_ratings(movies, reviews)"
   ]
  },
  {
   "cell_type": "code",
   "execution_count": 106,
   "metadata": {},
   "outputs": [
    {
     "data": {
      "text/plain": [
       "['MSG 2 the Messenger ',\n",
       " 'Avengers: Age of Ultron Parody ',\n",
       " 'Five Minutes ',\n",
       " 'Selam ',\n",
       " 'Let There Be Light ',\n",
       " \"Quiet Riot: Well Now You're Here, There's No Way Back \",\n",
       " 'Crawl Bitch Crawl ',\n",
       " 'Chasing Happiness ',\n",
       " 'Make Like a Dog ',\n",
       " 'Pandorica ',\n",
       " 'Third Contact ',\n",
       " 'Romeo Juliet ',\n",
       " 'Be Somebody ',\n",
       " 'Birlesen Gonuller ',\n",
       " 'Kitbull ',\n",
       " 'Agnelli ',\n",
       " 'Sátántangó ',\n",
       " 'Foster ',\n",
       " 'CM101MMXI Fundamentals ',\n",
       " 'Crystal Lake Memories: The Complete History of Friday the 13th ']"
      ]
     },
     "execution_count": 106,
     "metadata": {},
     "output_type": "execute_result"
    }
   ],
   "source": [
    "popular_recommendations(10, 20, ranked_movies)"
   ]
  },
  {
   "cell_type": "markdown",
   "metadata": {},
   "source": [
    "Usint the three criteria above, you should be able to put together the above function.  If you feel confident in your solution, check the results of your function against our solution. On the next page, you can see a walkthrough and you can of course get the solution by looking at the solution notebook available in this workspace.  "
   ]
  },
  {
   "cell_type": "code",
   "execution_count": 107,
   "metadata": {},
   "outputs": [],
   "source": [
    "# Put your solutions for each of the cases here\n",
    "\n",
    "# Top 20 movies recommended for id 1\n",
    "\n",
    "recs_20_for_1 = popular_recommendations(1, 20, ranked_movies) # Your solution list here\n",
    "\n",
    "# Top 5 movies recommended for id 53968\n",
    "recs_5_for_53968 = popular_recommendations(53968, 5, ranked_movies)# Your solution list here\n",
    "\n",
    "# Top 100 movies recommended for id 70000\n",
    "recs_100_for_70000 = popular_recommendations(1, 100, ranked_movies)# Your solution list here\n",
    "\n",
    "# Top 35 movies recommended for id 43\n",
    "recs_35_for_43 = popular_recommendations(1, 35, ranked_movies)# Your solution list here\n",
    "\n"
   ]
  },
  {
   "cell_type": "code",
   "execution_count": 108,
   "metadata": {},
   "outputs": [
    {
     "name": "stdout",
     "output_type": "stream",
     "text": [
      "If you got here, looks like you are good to go!  Nice job!\n"
     ]
    }
   ],
   "source": [
    "### You Should Not Need To Modify Anything In This Cell\n",
    "ranked_movies = t.create_ranked_df(movies, reviews) # only run this once - it is not fast\n",
    "\n",
    "# check 1 \n",
    "assert t.popular_recommendations('1', 20, ranked_movies) == recs_20_for_1,  \"The first check failed...\"\n",
    "# check 2\n",
    "assert t.popular_recommendations('53968', 5, ranked_movies) == recs_5_for_53968,  \"The second check failed...\"\n",
    "# check 3\n",
    "assert t.popular_recommendations('70000', 100, ranked_movies) == recs_100_for_70000,  \"The third check failed...\"\n",
    "# check 4\n",
    "assert t.popular_recommendations('43', 35, ranked_movies) == recs_35_for_43,  \"The fourth check failed...\"\n",
    "\n",
    "print(\"If you got here, looks like you are good to go!  Nice job!\")"
   ]
  },
  {
   "cell_type": "markdown",
   "metadata": {},
   "source": [
    "**Notice:** This wasn't the only way we could have determined the \"top rated\" movies.  You can imagine that in keeping track of trending news or trending social events, you would likely want to create a time window from the current time, and then pull the articles in the most recent time frame.  There are always going to be some subjective decisions to be made.  \n",
    "\n",
    "If you find that no one is paying any attention to your most popular recommendations, then it might be time to find a new way to recommend, which is what the next parts of the lesson should prepare us to do!\n"
   ]
  },
  {
   "cell_type": "markdown",
   "metadata": {},
   "source": [
    "### Part II: Adding Filters\n",
    "\n",
    "Now that you have created a function to give back the **n_top** movies, let's make it a bit more robust.  Add arguments that will act as filters for the movie **year** and **genre**.  \n",
    "\n",
    "Use the cells below to adjust your existing function to allow for **year** and **genre** arguments as **lists** of **strings**.  Then your ending results are filtered to only movies within the lists of provided years and genres (as `or` conditions).  If no list is provided, there should be no filter applied.\n",
    "\n",
    "You can adjust other necessary inputs as necessary to retrieve the final results you are looking for!\n",
    "\n",
    "Try writing a few tests against the test function in our test function.  Below returns the top 20 movies for user 1 based on the specified year and genre filters.  Does yours return the same? \n",
    "\n",
    "```\n",
    "t.popular_recs_filtered('1', 20, ranked_movies, years=['2015', '2016', '2017', '2018'], genres=['History'])\n",
    "```"
   ]
  },
  {
   "cell_type": "code",
   "execution_count": 116,
   "metadata": {},
   "outputs": [
    {
     "data": {
      "text/plain": [
       "movie_id\n",
       "4921860     0\n",
       "5262972     0\n",
       "6662050     0\n",
       "2737018     0\n",
       "5804314     0\n",
       "           ..\n",
       "10367276    0\n",
       "3108604     0\n",
       "3187378     0\n",
       "4458206     0\n",
       "7923374     0\n",
       "Name: History, Length: 11524, dtype: int64"
      ]
     },
     "execution_count": 116,
     "metadata": {},
     "output_type": "execute_result"
    }
   ],
   "source": [
    "ranked_movies['History']"
   ]
  },
  {
   "cell_type": "code",
   "execution_count": 136,
   "metadata": {},
   "outputs": [],
   "source": [
    "def popular_recommendations_filtered(user_id, n_top, ranked_movies, years_list, genres_list):\n",
    "    '''\n",
    "    INPUT:\n",
    "    user_id - the user_id of the individual you are making recommendations for\n",
    "    n_top - an integer of the number recommendations you want back\n",
    "    OUTPUT:\n",
    "    top_movies - a list of the n_top recommended movies by movie title in order best to worst\n",
    "    '''\n",
    "    ranked_movies = ranked_movies[ranked_movies['year'].isin(years_list)]\n",
    "    ranked_movies = ranked_movies[ranked_movies[genres_list].sum(axis=1) > 0 ]    \n",
    "    \n",
    "    top_movies = list(ranked_movies['movie'][:n_top])\n",
    "    return top_movies    "
   ]
  },
  {
   "cell_type": "code",
   "execution_count": 137,
   "metadata": {},
   "outputs": [
    {
     "data": {
      "text/plain": [
       "['Avengers: Age of Ultron Parody ',\n",
       " 'Five Minutes ',\n",
       " 'Make Like a Dog ',\n",
       " \"Hillary's America: The Secret History of the Democratic Party \",\n",
       " 'I Believe in Miracles ',\n",
       " 'Inner Workings ',\n",
       " 'O.J.: Made in America ',\n",
       " 'Ayla: The Daughter of War ',\n",
       " 'Hacksaw Ridge ',\n",
       " 'They Shall Not Grow Old ',\n",
       " 'Namhansanseong ',\n",
       " 'The Farthest ',\n",
       " 'Piper ',\n",
       " 'Kono sekai no katasumi ni ',\n",
       " 'Sado ',\n",
       " 'Silicon Cowboys ',\n",
       " 'World of Tomorrow ',\n",
       " '13th ',\n",
       " 'Ethel &amp; Ernest ',\n",
       " 'Paul, Apostle of Christ ']"
      ]
     },
     "execution_count": 137,
     "metadata": {},
     "output_type": "execute_result"
    }
   ],
   "source": [
    "popular_recommendations_filtered(1, 20, ranked_movies, ['2015', '2016', '2017', '2018'], ['History','Short'])"
   ]
  },
  {
   "cell_type": "code",
   "execution_count": 130,
   "metadata": {},
   "outputs": [
    {
     "data": {
      "text/plain": [
       "movie_id\n",
       "4921860     False\n",
       "5262972      True\n",
       "6662050      True\n",
       "2737018     False\n",
       "5804314     False\n",
       "            ...  \n",
       "10367276     True\n",
       "3108604     False\n",
       "3187378     False\n",
       "4458206     False\n",
       "7923374     False\n",
       "Length: 11524, dtype: bool"
      ]
     },
     "execution_count": 130,
     "metadata": {},
     "output_type": "execute_result"
    }
   ],
   "source": [
    "ranked_movies[['History','Short']].sum(axis=1) > 0"
   ]
  },
  {
   "cell_type": "code",
   "execution_count": null,
   "metadata": {},
   "outputs": [],
   "source": []
  }
 ],
 "metadata": {
  "kernelspec": {
   "display_name": "Python 3",
   "language": "python",
   "name": "python3"
  },
  "language_info": {
   "codemirror_mode": {
    "name": "ipython",
    "version": 3
   },
   "file_extension": ".py",
   "mimetype": "text/x-python",
   "name": "python",
   "nbconvert_exporter": "python",
   "pygments_lexer": "ipython3",
   "version": "3.7.5"
  }
 },
 "nbformat": 4,
 "nbformat_minor": 2
}
